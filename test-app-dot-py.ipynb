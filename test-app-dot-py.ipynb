{
 "cells": [
  {
   "cell_type": "code",
   "execution_count": 1,
   "metadata": {},
   "outputs": [],
   "source": [
    "import numpy as np\n",
    "\n",
    "import sqlalchemy\n",
    "from sqlalchemy.ext.automap import automap_base\n",
    "from sqlalchemy.orm import Session\n",
    "from sqlalchemy import create_engine, func\n",
    "\n",
    "from flask import Flask, jsonify"
   ]
  },
  {
   "cell_type": "code",
   "execution_count": 2,
   "metadata": {},
   "outputs": [],
   "source": [
    "# set up database\n",
    "engine = create_engine(\"sqlite:///hawaii.sqlite\")"
   ]
  },
  {
   "cell_type": "code",
   "execution_count": 3,
   "metadata": {},
   "outputs": [],
   "source": [
    "# reflect an existing database into a new model\n",
    "Base = automap_base()\n",
    "\n",
    "# reflect the tables\n",
    "Base.prepare(engine, reflect=True)\n",
    "\n",
    "# save reference to the table\n",
    "Weather = Base.classes.measurement\n",
    "\n",
    "# create an app\n",
    "app = Flask(__name__)"
   ]
  },
  {
   "cell_type": "code",
   "execution_count": 4,
   "metadata": {},
   "outputs": [],
   "source": [
    "# list routes\n",
    "# /\n",
    "#   Home page.\n",
    "@app.route(\"/\")\n",
    "def home():\n",
    "    print(\"Server received request for HW10-Hawaii weather home page...\")\n",
    "    return \"Welcome to the HW10-Hawaii weather home page.\"\n",
    "\n",
    "@app.route(\"/about\")\n",
    "def about():\n",
    "    print(\"Server received request for 'About' page...\")\n",
    "    return \"Welcome to my 'About' page.\""
   ]
  },
  {
   "cell_type": "code",
   "execution_count": 5,
   "metadata": {},
   "outputs": [],
   "source": [
    "#   List all routes that are available.\n",
    "# /api/v1.0/precipitation\n",
    "weather_dict = {\n",
    "    \"date\": [],\n",
    "    \"prcp\": []\n",
    "    }"
   ]
  },
  {
   "cell_type": "code",
   "execution_count": 6,
   "metadata": {},
   "outputs": [],
   "source": [
    "@app.route(\"/normal\")\n",
    "def normal():\n",
    "    return weather_dict"
   ]
  },
  {
   "cell_type": "code",
   "execution_count": 7,
   "metadata": {},
   "outputs": [],
   "source": [
    "@app.route(\"/jsonified\")\n",
    "def jsonified():\n",
    "    return jsonify(weather_dict)"
   ]
  },
  {
   "cell_type": "code",
   "execution_count": 8,
   "metadata": {},
   "outputs": [],
   "source": [
    "#   Convert the query results to a dictionary using date as the key and prcp as the value.\n",
    "#   Return the JSON representation of your dictionary.\n",
    "\n",
    "@app.route(\"/api/v1.0/weather\")\n",
    "def weather():\n",
    "    # Create our session (link) from Python to the DB\n",
    "    session = Session(engine)\n",
    "\n",
    "    weather_results = session.query(weather_dict.name).all()\n",
    "\n",
    "    session.close()\n",
    "\n",
    "    all_names = list(np.ravel(results))\n",
    "\n",
    "    return jsonify(all_names)"
   ]
  },
  {
   "cell_type": "code",
   "execution_count": null,
   "metadata": {},
   "outputs": [],
   "source": []
  }
 ],
 "metadata": {
  "kernelspec": {
   "display_name": "Python 3",
   "language": "python",
   "name": "python3"
  },
  "language_info": {
   "codemirror_mode": {
    "name": "ipython",
    "version": 3
   },
   "file_extension": ".py",
   "mimetype": "text/x-python",
   "name": "python",
   "nbconvert_exporter": "python",
   "pygments_lexer": "ipython3",
   "version": "3.6.10"
  }
 },
 "nbformat": 4,
 "nbformat_minor": 4
}
